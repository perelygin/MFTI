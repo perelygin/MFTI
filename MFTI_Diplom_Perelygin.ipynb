{
  "nbformat": 4,
  "nbformat_minor": 0,
  "metadata": {
    "colab": {
      "name": "MFTI Diplom Perelygin.ipynb",
      "provenance": [],
      "include_colab_link": true
    },
    "kernelspec": {
      "name": "python3",
      "display_name": "Python 3"
    }
  },
  "cells": [
    {
      "cell_type": "markdown",
      "metadata": {
        "id": "view-in-github",
        "colab_type": "text"
      },
      "source": [
        "<a href=\"https://colab.research.google.com/github/perelygin/MFTI/blob/master/MFTI_Diplom_Perelygin.ipynb\" target=\"_parent\"><img src=\"https://colab.research.google.com/assets/colab-badge.svg\" alt=\"Open In Colab\"/></a>"
      ]
    },
    {
      "cell_type": "markdown",
      "metadata": {
        "id": "hJ6PUkv3EnLJ",
        "colab_type": "text"
      },
      "source": [
        "#Диплом"
      ]
    },
    {
      "cell_type": "markdown",
      "metadata": {
        "id": "G05_v5474-Ke",
        "colab_type": "text"
      },
      "source": [
        "Разработка технологии оценки трудозатрат на реализацию доработок информационной системы."
      ]
    },
    {
      "cell_type": "markdown",
      "metadata": {
        "id": "Bn7xF3Q04nWs",
        "colab_type": "text"
      },
      "source": [
        "##Постановка задачи"
      ]
    },
    {
      "cell_type": "markdown",
      "metadata": {
        "id": "T3hreD8c4p6L",
        "colab_type": "text"
      },
      "source": [
        "###Описание текущего бизнес-процесса"
      ]
    },
    {
      "cell_type": "markdown",
      "metadata": {
        "id": "zJV4llP04wyD",
        "colab_type": "text"
      },
      "source": [
        "На текущий момент процесс доработки программного обеспечения выглядит следующим образом: \n",
        "*\tЗаказчик формулирует задачу в терминах предметной области. \n",
        "*\tТехнолог разрабатывает экспертное заключение, которое формализует бизнес-требования и верхнеуровнево описывает необходимые изменения в информационных системах. \n",
        "*\tНа основании экспертного заключения аналитики информационных систем разрабатывают технические задания на модификацию информационных систем. \n",
        "*\tНа основании технических заданий разработчики вносят изменения в системы.\n",
        "Для осуществления расчетов между Заказчиком и Исполнителем, а также в целях планирования, необходимо выполнить оценку трудозатрат по работам выполняемым для решения задачи, поставленной Заказчиком.  \n",
        "\n",
        "Оценка трудозатрат может выполняться в целях планирования на этапе согласования экспертного заключения, но окончательная оценка, как правило, бывает доступна после согласования технического задания. \n",
        "Обычно оценка трудозатрат представляет из себя перечень планируемых работ, с указанием трудозатрат по каждой работе. Например:\n"
      ]
    },
    {
      "cell_type": "markdown",
      "metadata": {
        "id": "hFqURhRA6AIF",
        "colab_type": "text"
      },
      "source": [
        "### Описание требуемого бизнес-процесса\n",
        " "
      ]
    }
  ]
}