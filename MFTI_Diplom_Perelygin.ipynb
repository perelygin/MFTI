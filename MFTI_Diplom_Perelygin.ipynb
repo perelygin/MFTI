{
  "nbformat": 4,
  "nbformat_minor": 0,
  "metadata": {
    "colab": {
      "name": "MFTI Diplom Perelygin.ipynb",
      "provenance": [],
      "authorship_tag": "ABX9TyPLVn0Tw49ZpXX0H4wQyG6O",
      "include_colab_link": true
    },
    "kernelspec": {
      "name": "python3",
      "display_name": "Python 3"
    }
  },
  "cells": [
    {
      "cell_type": "markdown",
      "metadata": {
        "id": "view-in-github",
        "colab_type": "text"
      },
      "source": [
        "<a href=\"https://colab.research.google.com/github/perelygin/MFTI/blob/master/MFTI_Diplom_Perelygin.ipynb\" target=\"_parent\"><img src=\"https://colab.research.google.com/assets/colab-badge.svg\" alt=\"Open In Colab\"/></a>"
      ]
    },
    {
      "cell_type": "markdown",
      "metadata": {
        "id": "hJ6PUkv3EnLJ",
        "colab_type": "text"
      },
      "source": [
        "#Диплом"
      ]
    },
    {
      "cell_type": "code",
      "metadata": {
        "id": "L7vq-xRiEcN8",
        "colab_type": "code",
        "colab": {}
      },
      "source": [
        "##Постановка задачи"
      ],
      "execution_count": 0,
      "outputs": []
    }
  ]
}