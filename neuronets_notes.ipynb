{
  "nbformat": 4,
  "nbformat_minor": 0,
  "metadata": {
    "colab": {
      "name": "neuronets_notes.ipynb",
      "provenance": [],
      "authorship_tag": "ABX9TyMhl73BFbz15moEfoipTJnC",
      "include_colab_link": true
    },
    "kernelspec": {
      "name": "python3",
      "display_name": "Python 3"
    }
  },
  "cells": [
    {
      "cell_type": "markdown",
      "metadata": {
        "id": "view-in-github",
        "colab_type": "text"
      },
      "source": [
        "<a href=\"https://colab.research.google.com/github/perelygin/MFTI/blob/master/neuronets_notes.ipynb\" target=\"_parent\"><img src=\"https://colab.research.google.com/assets/colab-badge.svg\" alt=\"Open In Colab\"/></a>"
      ]
    },
    {
      "cell_type": "markdown",
      "metadata": {
        "id": "Q8Kbdynz7_4c",
        "colab_type": "text"
      },
      "source": [
        "#Лекция 10. Рекурентные нейронные сети(RNN)"
      ]
    },
    {
      "cell_type": "markdown",
      "metadata": {
        "id": "zAztqTp58Kjo",
        "colab_type": "text"
      },
      "source": [
        "#Лекция 11. Затухание градиента"
      ]
    }
  ]
}