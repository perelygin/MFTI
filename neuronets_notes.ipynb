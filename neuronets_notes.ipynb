{
  "nbformat": 4,
  "nbformat_minor": 0,
  "metadata": {
    "colab": {
      "name": "neuronets_notes.ipynb",
      "provenance": [],
      "collapsed_sections": [],
      "authorship_tag": "ABX9TyOAnIAEWR8aq5OZwBweR5YT",
      "include_colab_link": true
    },
    "kernelspec": {
      "name": "python3",
      "display_name": "Python 3"
    }
  },
  "cells": [
    {
      "cell_type": "markdown",
      "metadata": {
        "id": "view-in-github",
        "colab_type": "text"
      },
      "source": [
        "<a href=\"https://colab.research.google.com/github/perelygin/MFTI/blob/master/neuronets_notes.ipynb\" target=\"_parent\"><img src=\"https://colab.research.google.com/assets/colab-badge.svg\" alt=\"Open In Colab\"/></a>"
      ]
    },
    {
      "cell_type": "markdown",
      "metadata": {
        "id": "Q8Kbdynz7_4c",
        "colab_type": "text"
      },
      "source": [
        "#Лекция 10. Рекурентные нейронные сети(RNN)"
      ]
    },
    {
      "cell_type": "markdown",
      "metadata": {
        "id": "zAztqTp58Kjo",
        "colab_type": "text"
      },
      "source": [
        "#Лекция 11. Затухание градиента"
      ]
    },
    {
      "cell_type": "markdown",
      "metadata": {
        "id": "DhAVSfYKKXMo",
        "colab_type": "text"
      },
      "source": [
        "При классификации текста, нам нужно сначала его прочитать и потом выполнить классификацию.  В отличии от задачи генерации текста,  ошибку мы получаем только в конце. В итоге эта ошибка проходит через все итерации(перемножаем производные по всем скрытым состояниям) в обратную сторону. И если одна из производных окажется близкой к 0, то при большом числе итераций, градиент будет стремиться к 0. И это плохо.\n",
        "\n",
        "в RNN матрица W каждый раз одна и та же. И каждый раз ее градиент будет зависеть от того кусочка контекста, который приходил на вход в этой итерации. И градиент по первой итерации будет меньше чем гралиент по последней итерации. Т.е. последняя итреациия будет оказывать больше влияние на наш контекст - происходит забывание информации.\n",
        "\n",
        "Взрывание градиента - это когда мы делаем слишком большой градиентный шаг  и оказываемся в той области, где ошибка еще больше(когда лос-функция не гладкая или есть выбросы в данных).\n",
        "Способы борьбы с этим: образека градиента(gradient clipping) -  когда мы не даем градиенту быть больше чем какое-то число. "
      ]
    },
    {
      "cell_type": "markdown",
      "metadata": {
        "id": "eH_ARYfxWoGk",
        "colab_type": "text"
      },
      "source": [
        "##RNN и CNN\n"
      ]
    },
    {
      "cell_type": "markdown",
      "metadata": {
        "id": "ZyYJFeg_WwxM",
        "colab_type": "text"
      },
      "source": [
        "биграммы - пары слов. Текст - этоодномерный сигнал, к которому можно применить свертку."
      ]
    }
  ]
}