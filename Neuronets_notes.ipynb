{
  "nbformat": 4,
  "nbformat_minor": 0,
  "metadata": {
    "colab": {
      "name": "Neuronets_notes.ipynb",
      "provenance": [],
      "collapsed_sections": [
        "reeyhY6MYNxA"
      ],
      "authorship_tag": "ABX9TyO/jgLE3EtRNK7MXFlklCnR",
      "include_colab_link": true
    },
    "kernelspec": {
      "name": "python3",
      "display_name": "Python 3"
    }
  },
  "cells": [
    {
      "cell_type": "markdown",
      "metadata": {
        "id": "view-in-github",
        "colab_type": "text"
      },
      "source": [
        "<a href=\"https://colab.research.google.com/github/perelygin/MFTI/blob/master/Neuronets_notes.ipynb\" target=\"_parent\"><img src=\"https://colab.research.google.com/assets/colab-badge.svg\" alt=\"Open In Colab\"/></a>"
      ]
    },
    {
      "cell_type": "markdown",
      "metadata": {
        "id": "4QW2gtXd4UgW",
        "colab_type": "text"
      },
      "source": [
        "#Полезные ссылки\n",
        "[Туториал по PyTorch: от установки до готовой нейронной сети](https://neurohive.io/ru/tutorial/glubokoe-obuchenie-s-pytorch/"
      ]
    },
    {
      "cell_type": "markdown",
      "metadata": {
        "id": "azUMF9g71OUs",
        "colab_type": "text"
      },
      "source": [
        "#Лекция 1. Нейрон, нейронная сеть и полносвязные нейронные сети\n"
      ]
    },
    {
      "cell_type": "markdown",
      "metadata": {
        "id": "VPKeZH5IFXnR",
        "colab_type": "text"
      },
      "source": [
        "##Математическая модель нейрона\n",
        "\n"
      ]
    },
    {
      "cell_type": "markdown",
      "metadata": {
        "id": "-MKDOzVgGlRo",
        "colab_type": "text"
      },
      "source": [
        "![alt text](https://drive.google.com/uc?id=1TzPb_8QFUoCAjxnC5ucpKT_Tdf2v5pGW)"
      ]
    },
    {
      "cell_type": "markdown",
      "metadata": {
        "id": "slY7CA0mZCfd",
        "colab_type": "text"
      },
      "source": [
        "На вход нейрона подаются сигналы $x_i$. Каждый сигнал умножается на свой весовой коэффициент $w_i$. Тем самым мы можем регулировать влияние каждого входа на нейрон. Затем все входные сигналы суммируются,  прибавляется смещение $b$,  и все подается на вход функции активации.  Пороговая(передаточная) функция активации принимает значение 1 если на вход подано значение выше значения порога активации.  В противном случае она принимает значение 0. В общем случае эта функция может быть любой.\n",
        "\n",
        "Сумму входных сигналов с учетом весовых коэффициентов можно представить в виде скалярного произведения вектора входов $\\overline{x}$ и вектора весов $\\overline{w}$.\n"
      ]
    },
    {
      "cell_type": "markdown",
      "metadata": {
        "id": "r3sAjD6iFz-t",
        "colab_type": "text"
      },
      "source": [
        "**Разделяющая поверхность нейрона.** Это набор точек в которых пороговая функция активации менят свое значение. Разделяющая поверхность нейрона линейна,  а разделяющая поверхность нейронной сети - не линейна."
      ]
    },
    {
      "cell_type": "markdown",
      "metadata": {
        "id": "z9llEDusIDwg",
        "colab_type": "text"
      },
      "source": [
        "**Функции активации** \n",
        "\n",
        "\n",
        "*   Пороговая функция: \n",
        "$\\begin{equation*}\n",
        "f(z) = \n",
        " \\begin{cases}\n",
        "   0 &\\text{if $z<0$}\\\\\n",
        "   1 &\\text{if $z\\geqslant 0$}\n",
        " \\end{cases}\n",
        "\\end{equation*}$\n",
        "\n",
        "*   Сигмоида: $\\sigma(z)=\\frac{1}{1+e^{-\\frac{e}{T}}}$ \n",
        "\n",
        "При $T\\rightarrow 0 \\;\\;\\;\\; \\sigma(z)\\rightarrow f(x)$\n",
        "\n",
        "![alt text](https://drive.google.com/uc?id=18tjCLplqrlXtyIfx4Y03E6K7zCNcfiFb)\n",
        "\n",
        "\n",
        "В нейронных сетях параметр $T$ не используется -  его можно внести в параметры $w \\; и \\; b$"
      ]
    },
    {
      "cell_type": "markdown",
      "metadata": {
        "id": "kgwgCDzNPlvM",
        "colab_type": "text"
      },
      "source": [
        "С помощью нейронов можно реализовать различные функциии, в том числе и логические функции."
      ]
    },
    {
      "cell_type": "markdown",
      "metadata": {
        "id": "pOOYF4jsaH-e",
        "colab_type": "text"
      },
      "source": [
        "##Полносвязанные нейронные сети"
      ]
    },
    {
      "cell_type": "markdown",
      "metadata": {
        "id": "qx3Zm1nuYeNK",
        "colab_type": "text"
      },
      "source": [
        "**Пример задачи: восстановление зависисмости.**\n",
        "![alt text](https://drive.google.com/uc?id=1H-BLMgcbeMyXtFBUw2aFl3B7FqdlU4Ub)\n"
      ]
    },
    {
      "cell_type": "markdown",
      "metadata": {
        "id": "ChSyimgBZ-lL",
        "colab_type": "text"
      },
      "source": [
        "что нам нужно для решения этой задачи:\n",
        "*  Архитектура НС - это то в каком порядке нейроны соединены между собой. А так же используемые типы функций активации.  \n",
        "*   Функция потерь -  говорит нам о том, на сколько плохо  НС решает поставленную задачу. \n",
        "*   Метод оптимизации - говорит о том,  как  выполнять насторку параметров НС(Алгоритм) для уменьшения функции потерь\n",
        "*   Метрики   - смотрим на то, как работает НС.  В отличие от функции потерь не применяется для настроки НС\n",
        "\n"
      ]
    },
    {
      "cell_type": "markdown",
      "metadata": {
        "id": "6T5kSvX5exuf",
        "colab_type": "text"
      },
      "source": [
        "Будем приближать наши значения с помощью суммы сигмоид.При помощи линейной\n",
        "комбинации сигмоид можно с любой точностью приблизить любую ограниченную функцию с не более, чем счетным числом разрывов.\n",
        "![alt text](https://drive.google.com/uc?id=12-HwIZGvFZghDXzqA1aTnvu4HTIMeR2O)\n",
        "![alt text](https://drive.google.com/uc?id=1JSZjOXmcPcxfmFaeSLYu_me2zMfIrzNU)"
      ]
    },
    {
      "cell_type": "markdown",
      "metadata": {
        "id": "282rgGgvG5qi",
        "colab_type": "text"
      },
      "source": [
        "##Градиентный спуск. \n"
      ]
    },
    {
      "cell_type": "markdown",
      "metadata": {
        "id": "3_h7JpIaHaE6",
        "colab_type": "text"
      },
      "source": [
        "Градиентный спуск - метод поиска локального минимума функции. \n",
        "Пусть $t$ - некоторый момент времени, а  $\\alpha$ - шаг градиентного спуска.  Тогда $f(x^t)$ - значение функции в этот момент времени.  Для нахождения минимума функции,  итерационно считаем градиент,  отрицательное значение которого показывает нам направление уменьшения функции. Таким образом,  если $x^{t+1} = x^t - \\alpha f'(x^t)$,   то   $f(x^{t+1}) = f(x^t - \\alpha f'(x^t))$\n",
        "\n",
        "\n",
        "В случае нейронных сетей ищут минимум функции потерь $L(f(x,w))$ где \n",
        "$w = \\begin{bmatrix} w_0 \\\\ w_1\\\\ w_2\\\\ w_3\\\\...\\\\w_{P-1} \\end{bmatrix}$  весовые коэффициенты сети, $x$ - входные сигналы, $f$ - выход сети. Тогда градиент \n",
        "\n",
        "\n",
        "$\\nabla L = \\begin{bmatrix} \\frac{dL}{dw_0} \\\\ \\frac{dL}{dw_1}\\\\ \\frac{dL}{dw_2}\\\\ \\frac{dL}{dw_3}\\\\...\\\\\\frac{dL}{dw_{P-1}} \\end{bmatrix}$. \n",
        "Исходя из этого:\n",
        "*  Функция потерь должна быть дифференцируема. \n",
        "*  Производна функции потерь по выходу из нейронной сети должна быть отлична от нуля - иначе мы не поймем направление движения на очередном шаге. \n"
      ]
    },
    {
      "cell_type": "markdown",
      "metadata": {
        "id": "FAeD552gkPt9",
        "colab_type": "text"
      },
      "source": [
        "##дифференцирование сложной функции. Правило цепочки.Граф вычислений.\n",
        " Правил дифференцирования сложной функции:\n",
        "$$\\frac{df(g(x))}{dx} = \\frac{df}{dg} \\frac{dg}{dx}$$\n",
        "\n",
        "В случае нейронных сетей\n",
        "\n",
        "Так как $MSE = L(y_1,y_2)$,  где MSE - функция потерь,  $y_1, y_2$ - выходы из нейроной сети, $x_1$ -  вход во сеть,  то \n",
        "MSE зависит от 2х переменных. Обе переменные зависят от x1. Мы немного изменили x1 — y1, y2 изменились. \n",
        "Они изменились на $\\frac{dy1}{dx1}, \\frac{dy2}{dx1} $\n",
        "\n",
        "На сколько изменилась L?\n",
        "Из-за y1 она изменилась на $\\frac{dL}{dy1}\\frac{dy1}{dx1}$ \n",
        "И так далее для каждого y\n",
        "На сколько она изменилась всего? На сумму этих значений:\n",
        "\n",
        "\n",
        "$$\n",
        "\\frac{dMSE}{dx} = \n",
        "\\begin{bmatrix} \\frac{dMSE}{dx_1} \\\\ \\frac{dMSE}{dx_2}\\\\ \\frac{dMSE}{dx_3} \\end{bmatrix} \n",
        "=\n",
        "\\begin{bmatrix}  \\frac{dMSE}{dy_1}\\cdot \\frac{dy_1}{dx_1} + \\frac{dMSE}{dy_2}\\cdot \\frac{dy_2}{dx_1}\n",
        " \\\\\n",
        "\\frac{dMSE}{dy_1}\\cdot \\frac{dy_1}{dx_2} + \\frac{dMSE}{dy_2}\\cdot \\frac{dy_2}{dx_2}\n",
        " \\\\ \n",
        "\\frac{dMSE}{dy_1}\\cdot \\frac{dy_1}{dx_3} + \\frac{dMSE}{dy_2}\\cdot \\frac{dy_2}{dx_3}\n",
        "  \\end{bmatrix} \n",
        "$$\n",
        "$$\n",
        "\\begin{matrix} \\frac{dy_1}{dx_1} = w_{1,1} \\ \\frac{dy_2}{dx_1}= w_{2,1} \n",
        " \\\\ \\frac{dy_1}{dx_2} = w_{1,2} \\ \\frac{dy_2}{dx_3} = w_{2,2} \n",
        " \\\\ \\frac{dy_1}{dx_3} = w_{1,3} \\ \\frac{dy_2}{dx_3} = w_{2,3} \n",
        "\\end{matrix} \\Rightarrow\n",
        "\\frac{dMSE}{dx} =  w^T\\cdot \\frac{dMSE}{dy}  $$\n"
      ]
    },
    {
      "cell_type": "markdown",
      "metadata": {
        "id": "rFLVxnbTXyZ_",
        "colab_type": "text"
      },
      "source": [
        "**Обучающая выборка** для нейронных сетей делится на три части \n",
        "* Тренировочную,\n",
        "* Валидационную, \n",
        "* Тестовую"
      ]
    },
    {
      "cell_type": "markdown",
      "metadata": {
        "id": "FfqsOgx7d7TT",
        "colab_type": "text"
      },
      "source": [
        "# Лекция 2. "
      ]
    },
    {
      "cell_type": "markdown",
      "metadata": {
        "id": "gPxqu2Xoc-uX",
        "colab_type": "text"
      },
      "source": [
        "## Граф  вычислений,  производная по графу вычислений"
      ]
    },
    {
      "cell_type": "markdown",
      "metadata": {
        "id": "Le5l-exRho4m",
        "colab_type": "text"
      },
      "source": [
        "![alt text](https://drive.google.com/uc?id=1hR4WR0sS5MSC1Ga-aCrlnWd-ApLuJE1f)\n",
        "\n",
        "Рассчитаем производную y по b2."
      ]
    },
    {
      "cell_type": "markdown",
      "metadata": {
        "id": "5On_8TYshmbH",
        "colab_type": "text"
      },
      "source": [
        "Исходная функция:\n",
        "$$y = c_1 \\cdot(x_1+b_1)\\cdot \\sigma(x_2+b_2) + \\sigma(x_1+b_1) \\cdot c_2 \\cdot \\tanh(x_2+b_2)$$\n",
        "Производная по $b_2$ через промежуточные функции по правилу цепочки:\n",
        "$$\\frac{dy}{db_2} = \\frac{dy}{dz_9}\\cdot\\frac{dz_9}{dz_6}\\cdot\\frac{dz_6}{dz_5}\\cdot\\frac{dz_5}{dz_2}\\cdot\\frac{dz_2}{db_2}+\\frac{dy}{dz_8}\\cdot\\frac{dz_8}{dz_7}\\cdot\\frac{dz_7}{dz_4}\\cdot\\frac{dz_4}{dz_2}\\cdot\\frac{dz_2}{db_2}$$\n",
        "\n",
        "$$z_2 = x_2+b_2 \\Rightarrow \\frac{dz_2}{db_2}=1 $$\n",
        "$$z_4 = \\sigma(z_2) \\Rightarrow \\frac{dz_4}{dz_2}=\\sigma(z_2) \\cdot (1-\\sigma(z_2)) =\\sigma(x_2+b_2) \\cdot (1-\\sigma(x_2+b_2))$$\n",
        "\n",
        "$$z_5 = \\tanh(z_2) \\Rightarrow \\frac{dz_5}{dz_2}=1-{tanh^2(z_2)} = 1-{tanh^2(x_2+b_2)}$$\n",
        "\n",
        "$$z_6 = c_2 \\cdot z_5  \\Rightarrow  \\frac{dz_6}{dz_5}  = c_2$$\n",
        "\n",
        "$$z_7 = z_4 \\cdot z_1 \\Rightarrow \\frac{dz_7}{dz_4}  = z_1 = x_1+b_1$$\n",
        "\n",
        "$$z_8 =  z_7 \\cdot c_1 \\Rightarrow \\frac{dz_8}{dz_7} = c_1$$\n",
        "\n",
        "$$z_9 = z_3 \\cdot z_6 \\Rightarrow \\frac{dz_9}{dz_6} = z_3 = \\sigma(z_1) = \\sigma(x_1+b_1) $$\n",
        "\n",
        "$$y = z_8+z_9 \\Rightarrow \\frac{dy}{dz_8} = 1$$\n",
        "$$y = z_8+z_9 \\Rightarrow \\frac{dy}{dz_9} = 1$$\n",
        "\n",
        "\n",
        "$$\\frac{dy}{db_2} = 1 \\cdot \\sigma(x_1+b_1)\\cdot c_2 \\cdot (1-tanh^2(x_2+b_2)) \\cdot 1+ 1 \\cdot c_1\\cdot(x_1+b_1) \\cdot \\sigma(x_2+b_2) \\cdot (1-\\sigma(x_2+b_2))\\cdot 1$$\n",
        "\n",
        "\n",
        "$$\\frac{dy}{db_2} =  \\sigma(x_1+b_1)\\cdot c_2 \\cdot (1-tanh^2(x_2+b_2)) +  c_1\\cdot(x_1+b_1) \\cdot \\sigma(x_2+b_2) \\cdot (1-\\sigma(x_2+b_2))$$"
      ]
    },
    {
      "cell_type": "markdown",
      "metadata": {
        "id": "gu0eIO7CmdzA",
        "colab_type": "text"
      },
      "source": [
        "## Нейронная сеть с несколькими выходами.BackProp через полносвязный слой"
      ]
    },
    {
      "cell_type": "markdown",
      "metadata": {
        "id": "vRfNlirNmpM1",
        "colab_type": "text"
      },
      "source": [
        "Если у нас НС с одним выходом, мы можем записать \n",
        "$$y =  f(z) = f(<\\overline{w},\\overline{x}> + b) \\: т.е. \\; z=<\\overline{w},\\overline{x}> + b $$\n",
        "то для НС с несколькими выходами запишем как:\n",
        "$$\\overline{z} = W\\overline{x}+\\overline{b} = \n",
        " \\begin{cases}\n",
        "   z_1 = \\overline{w_1} \\cdot \\overline{x}+b_1 \\\\\n",
        "   z_2 = \\overline{w_2} \\cdot \\overline{x}+b_2\n",
        " \\end{cases}\n",
        " =\n",
        " \\begin{bmatrix}\n",
        "   \\overline{w_1}  \\\\\n",
        "   \\overline{w_2} \n",
        " \\end{bmatrix}\n",
        " \\cdot\n",
        " \\overline{x}+\n",
        " \\begin{bmatrix}\n",
        "   b_1  \\\\\n",
        "   b_2 \n",
        " \\end{bmatrix}\n",
        "$$ \n",
        "\n"
      ]
    },
    {
      "cell_type": "markdown",
      "metadata": {
        "id": "cFMVb0TlsJRC",
        "colab_type": "text"
      },
      "source": [
        "Если у нас на вход подается несколько векторов $\\overline{x}$(по сути, один вектор $\\overline{x}$ - это один объект обучающей выборки. Вся обучающая выборка - матрица $X$ состоящая из столбцов $\\overline{x}$), то тогда можем записать $$Z = W \\cdot X + \\overline{b}$$\n",
        "при этом функция потерь:\n",
        "$$L = \\sum_{i=1}^n L(\\overline{z_i})$$ \n",
        "где $z_i$  - это значение выходов НС для $i-го$ объекта выборки. \n",
        "\n",
        "Полносвязанный слой. Он же libnear в pytorch. Что бы получить нелинейность нужно Добавить еще один слой - сигмоиду.\n",
        "\n",
        "Перемножение матриц быстро выполняется на графических процессорах\n",
        "\n",
        "Производная функции потерь по одному из весов:\n",
        "$$\\frac{dL}{dw_{1,i}} = \\frac{dL}{dz_1} \\cdot \\frac{dz_1}{dw_{1,i}} = \\frac{dL}{dz_1} \\cdot x_i$$\n",
        "\n",
        "Что такое производная функции потерь по матрице? Это матрица,  составленная из производных по каждому элементу матрицы $Z$.\n",
        "$$Z = \\begin{bmatrix}\n",
        "   Z_{0,0} &...& Z_{0,n}\\\\\n",
        "   ....\\\\\n",
        "   Z_{m,0} &...& Z_{m,n}\\\\\n",
        " \\end{bmatrix}$$\n",
        "\n",
        "$$\\frac{dL}{dZ} = \\begin{bmatrix}\n",
        "   \\frac{dL}{dZ_{0,0}} &...& \\frac{dL}{dZ_{0,n}}\\\\\n",
        "   ....\\\\\n",
        "   \\frac{dL}{dZ_{m,0}} &...& \\frac{dL}{dZ_{m,n}}\\\\\n",
        " \\end{bmatrix}$$"
      ]
    },
    {
      "cell_type": "markdown",
      "metadata": {
        "id": "7VgvVa6RI3dy",
        "colab_type": "text"
      },
      "source": [
        "$$\\frac{dL}{d\\overline{b}} = \\frac{dL}{d\\overline{z}}$$\n",
        "\n",
        "\n",
        "$$\\frac{dL}{d\\overline{x}} = W^T \\cdot \\frac{dL}{d\\overline{z}}$$\n",
        "\n",
        "\n",
        "$$\\frac{dL}{dW} = \\frac{dL}{d\\overline{z}} \\cdot \\overline{x}^T$$\n"
      ]
    },
    {
      "cell_type": "markdown",
      "metadata": {
        "id": "Aqaae-EVewx6",
        "colab_type": "text"
      },
      "source": [
        "## Пример обучения простой НС"
      ]
    },
    {
      "cell_type": "code",
      "metadata": {
        "id": "_jQdTfjSYNvT",
        "colab_type": "code",
        "colab": {}
      },
      "source": [
        "import torch\n",
        "import matplotlib.pyplot as plt"
      ],
      "execution_count": 0,
      "outputs": []
    },
    {
      "cell_type": "code",
      "metadata": {
        "id": "p76iKZx6YNvq",
        "colab_type": "code",
        "colab": {}
      },
      "source": [
        "import matplotlib\n",
        "matplotlib.rcParams['figure.figsize'] = (13.0, 5.0)"
      ],
      "execution_count": 0,
      "outputs": []
    },
    {
      "cell_type": "markdown",
      "metadata": {
        "id": "rQMRmV3GYNv9",
        "colab_type": "text"
      },
      "source": [
        "### Train dataset"
      ]
    },
    {
      "cell_type": "code",
      "metadata": {
        "id": "HPkSC4ybYNwB",
        "colab_type": "code",
        "outputId": "40667a6c-a288-4b09-bed0-1b5279e97014",
        "colab": {
          "base_uri": "https://localhost:8080/",
          "height": 338
        }
      },
      "source": [
        "x_train = torch.rand(100)\n",
        "x_train = x_train * 20.0 - 10.0\n",
        "\n",
        "y_train = torch.sin(x_train)\n",
        "\n",
        "plt.plot(x_train.numpy(), y_train.numpy(), 'o')\n",
        "plt.title('$y = sin(x)$');"
      ],
      "execution_count": 0,
      "outputs": [
        {
          "output_type": "display_data",
          "data": {
            "image/png": "[encoded data removed]",
            "text/plain": [
              "<Figure size 936x360 with 1 Axes>"
            ]
          },
          "metadata": {
            "tags": []
          }
        }
      ]
    },
    {
      "cell_type": "code",
      "metadata": {
        "id": "0BaqhTC7YNwR",
        "colab_type": "code",
        "outputId": "a2849733-e1a9-443b-b51d-eb9adcb19db7",
        "colab": {
          "base_uri": "https://localhost:8080/",
          "height": 336
        }
      },
      "source": [
        "noise = torch.randn(y_train.shape) / 5.\n",
        "\n",
        "plt.plot(x_train.numpy(), noise.numpy(), 'o')\n",
        "plt.axis([-10, 10, -1, 1])\n",
        "plt.title('Gaussian noise');"
      ],
      "execution_count": 0,
      "outputs": [
        {
          "output_type": "display_data",
          "data": {
            "image/png": "[encoded data removed]",
            "text/plain": [
              "<Figure size 936x360 with 1 Axes>"
            ]
          },
          "metadata": {
            "tags": []
          }
        }
      ]
    },
    {
      "cell_type": "code",
      "metadata": {
        "id": "giXhQDcyYNwf",
        "colab_type": "code",
        "outputId": "915b6c29-59d9-4f2a-e2ec-442ec1f595d7",
        "colab": {
          "base_uri": "https://localhost:8080/",
          "height": 351
        }
      },
      "source": [
        "y_train = y_train + noise\n",
        "plt.plot(x_train.numpy(), y_train.numpy(), 'o')\n",
        "plt.title('noisy sin(x)')\n",
        "plt.xlabel('x_train')\n",
        "plt.ylabel('y_train');"
      ],
      "execution_count": 0,
      "outputs": [
        {
          "output_type": "display_data",
          "data": {
            "image/png": "[encoded data removed]",
            "text/plain": [
              "<Figure size 936x360 with 1 Axes>"
            ]
          },
          "metadata": {
            "tags": []
          }
        }
      ]
    },
    {
      "cell_type": "code",
      "metadata": {
        "id": "9PPQGzXAY7h2",
        "colab_type": "code",
        "outputId": "297a78c4-e862-43d9-bcf9-516e8e83f437",
        "colab": {
          "base_uri": "https://localhost:8080/",
          "height": 35
        }
      },
      "source": [
        "x_train.shape"
      ],
      "execution_count": 0,
      "outputs": [
        {
          "output_type": "execute_result",
          "data": {
            "text/plain": [
              "torch.Size([100])"
            ]
          },
          "metadata": {
            "tags": []
          },
          "execution_count": 10
        }
      ]
    },
    {
      "cell_type": "code",
      "metadata": {
        "id": "6iNo9olAYNwr",
        "colab_type": "code",
        "colab": {}
      },
      "source": [
        "x_train.unsqueeze_(1)\n",
        "y_train.unsqueeze_(1);"
      ],
      "execution_count": 0,
      "outputs": []
    },
    {
      "cell_type": "code",
      "metadata": {
        "id": "RjAoYa11Y-qP",
        "colab_type": "code",
        "outputId": "15dce6fe-3cc6-4de9-a46a-13d90f720f90",
        "colab": {
          "base_uri": "https://localhost:8080/",
          "height": 35
        }
      },
      "source": [
        "x_train.shape"
      ],
      "execution_count": 0,
      "outputs": [
        {
          "output_type": "execute_result",
          "data": {
            "text/plain": [
              "torch.Size([100, 1])"
            ]
          },
          "metadata": {
            "tags": []
          },
          "execution_count": 13
        }
      ]
    },
    {
      "cell_type": "code",
      "metadata": {
        "scrolled": true,
        "id": "jC5BSzfvYNw1",
        "colab_type": "code",
        "outputId": "e4a8a40a-8c59-4f67-df55-c3455d0722ce",
        "colab": {
          "base_uri": "https://localhost:8080/",
          "height": 90
        }
      },
      "source": [
        "tmp = torch.Tensor([1,2,3])\n",
        "print(tmp)\n",
        "print(tmp.unsqueeze(1))"
      ],
      "execution_count": 0,
      "outputs": [
        {
          "output_type": "stream",
          "text": [
            "tensor([1., 2., 3.])\n",
            "tensor([[1.],\n",
            "        [2.],\n",
            "        [3.]])\n"
          ],
          "name": "stdout"
        }
      ]
    },
    {
      "cell_type": "markdown",
      "metadata": {
        "id": "reeyhY6MYNxA",
        "colab_type": "text"
      },
      "source": [
        "### Validation dataset"
      ]
    },
    {
      "cell_type": "code",
      "metadata": {
        "id": "qX8fojopYNxF",
        "colab_type": "code",
        "outputId": "ad971d24-1c55-4356-aeba-0a9a21aacb4e",
        "colab": {
          "base_uri": "https://localhost:8080/",
          "height": 351
        }
      },
      "source": [
        "x_validation = torch.linspace(-10, 10, 100)\n",
        "y_validation = torch.sin(x_validation.data)\n",
        "plt.plot(x_validation.numpy(), y_validation.numpy(), 'o')\n",
        "plt.title('sin(x)')\n",
        "plt.xlabel('x_validation')\n",
        "plt.ylabel('y_validation');"
      ],
      "execution_count": 0,
      "outputs": [
        {
          "output_type": "display_data",
          "data": {
            "image/png": "[encoded data removed]",
            "text/plain": [
              "<Figure size 936x360 with 1 Axes>"
            ]
          },
          "metadata": {
            "tags": []
          }
        }
      ]
    },
    {
      "cell_type": "code",
      "metadata": {
        "id": "7DYQArwvYNxR",
        "colab_type": "code",
        "colab": {}
      },
      "source": [
        "x_validation.unsqueeze_(1)\n",
        "y_validation.unsqueeze_(1);"
      ],
      "execution_count": 0,
      "outputs": []
    },
    {
      "cell_type": "markdown",
      "metadata": {
        "id": "TYNrN2yEYNxc",
        "colab_type": "text"
      },
      "source": [
        "### Model construction"
      ]
    },
    {
      "cell_type": "code",
      "metadata": {
        "id": "BP0rm2rIYNxg",
        "colab_type": "code",
        "colab": {}
      },
      "source": [
        "class SineNet(torch.nn.Module):\n",
        "    def __init__(self, n_hidden_neurons):\n",
        "        super(SineNet, self).__init__()\n",
        "        self.fc1 = torch.nn.Linear(1, n_hidden_neurons)\n",
        "        self.act1 = torch.nn.Sigmoid()\n",
        "        self.fc2 = torch.nn.Linear(n_hidden_neurons, 1)\n",
        "\n",
        "    def forward(self, x):\n",
        "        x = self.fc1(x)\n",
        "        x = self.act1(x)\n",
        "        x = self.fc2(x)\n",
        "        return x\n",
        "\n",
        "sine_net = SineNet(30)"
      ],
      "execution_count": 0,
      "outputs": []
    },
    {
      "cell_type": "markdown",
      "metadata": {
        "id": "cOjADgmQYNxs",
        "colab_type": "text"
      },
      "source": [
        "### Prediction"
      ]
    },
    {
      "cell_type": "code",
      "metadata": {
        "id": "YuEdjODjYNxv",
        "colab_type": "code",
        "outputId": "96a77acb-b5dc-446d-b737-07183cb4e903",
        "colab": {
          "base_uri": "https://localhost:8080/",
          "height": 334
        }
      },
      "source": [
        "def predict(net, x, y):\n",
        "    y_pred = net.forward(x)\n",
        "\n",
        "    plt.plot(x.numpy(), y.numpy(), 'o', label='Groud truth')\n",
        "    plt.plot(x.numpy(), y_pred.data.numpy(), 'o', c='r', label='Prediction');\n",
        "    plt.legend(loc='upper left')\n",
        "    plt.xlabel('$x$')\n",
        "    plt.ylabel('$y$')\n",
        "\n",
        "predict(sine_net, x_validation, y_validation)"
      ],
      "execution_count": 0,
      "outputs": [
        {
          "output_type": "display_data",
          "data": {
            "image/png": "[encoded data removed]",
            "text/plain": [
              "<Figure size 936x360 with 1 Axes>"
            ]
          },
          "metadata": {
            "tags": []
          }
        }
      ]
    },
    {
      "cell_type": "markdown",
      "metadata": {
        "id": "sdHiE3B3YNx5",
        "colab_type": "text"
      },
      "source": [
        "### Optimizer"
      ]
    },
    {
      "cell_type": "code",
      "metadata": {
        "id": "MBmCmFV-YNx9",
        "colab_type": "code",
        "colab": {}
      },
      "source": [
        "optimizer = torch.optim.Adam(sine_net.parameters(), lr=0.01)"
      ],
      "execution_count": 0,
      "outputs": []
    },
    {
      "cell_type": "markdown",
      "metadata": {
        "id": "c-JWbB9bYNyF",
        "colab_type": "text"
      },
      "source": [
        "### Loss function"
      ]
    },
    {
      "cell_type": "code",
      "metadata": {
        "id": "hklkDXqQYNyH",
        "colab_type": "code",
        "colab": {}
      },
      "source": [
        "#средний квадрат ошибки\n",
        "def loss(pred, target):\n",
        "    squares = (pred - target) ** 2\n",
        "    return squares.mean()"
      ],
      "execution_count": 0,
      "outputs": []
    },
    {
      "cell_type": "markdown",
      "metadata": {
        "id": "YczZNUKxYNyR",
        "colab_type": "text"
      },
      "source": [
        "### Training procedure"
      ]
    },
    {
      "cell_type": "code",
      "metadata": {
        "id": "FVw4hFBuYNyU",
        "colab_type": "code",
        "outputId": "95996a65-7424-4cae-8c5a-82c8029cb2be",
        "colab": {
          "base_uri": "https://localhost:8080/",
          "height": 334
        }
      },
      "source": [
        "for epoch_index in range(2000):\n",
        "    optimizer.zero_grad() #обнуляем градиенты на каждом шаге,  чтобы они непросачивались с предыдущего шага.\n",
        "\n",
        "    y_pred = sine_net.forward(x_train) # считаем предсказание с помощью сети. Строится динамический граф вычислений. \n",
        "    loss_val = loss(y_pred, y_train)# получаем значение ошибки(функцию потерь) на предстказаных значениях\n",
        "\n",
        "    loss_val.backward() #Делаем обратное распространение ошибки. Для всех параметров считает значение градиента. ПРибавляем градинеты к уже существующим\n",
        "\n",
        "    optimizer.step() # Делаем шаг оптимизатора\n",
        "\n",
        "predict(sine_net, x_validation, y_validation)"
      ],
      "execution_count": 0,
      "outputs": [
        {
          "output_type": "display_data",
          "data": {
            "image/png": "[encoded data removed]",
            "text/plain": [
              "<Figure size 936x360 with 1 Axes>"
            ]
          },
          "metadata": {
            "tags": []
          }
        }
      ]
    },
    {
      "cell_type": "markdown",
      "metadata": {
        "id": "Galtd2eMlkBZ",
        "colab_type": "text"
      },
      "source": [
        "#Лекция 3. Задачи решаемые НС. Методы оптимизации"
      ]
    },
    {
      "cell_type": "markdown",
      "metadata": {
        "id": "Q8Kbdynz7_4c",
        "colab_type": "text"
      },
      "source": [
        "#Лекция 10. Рекурентные нейронные сети(RNN)"
      ]
    },
    {
      "cell_type": "markdown",
      "metadata": {
        "id": "zAztqTp58Kjo",
        "colab_type": "text"
      },
      "source": [
        "#Лекция 11. Затухание градиента"
      ]
    },
    {
      "cell_type": "markdown",
      "metadata": {
        "id": "DhAVSfYKKXMo",
        "colab_type": "text"
      },
      "source": [
        "При классификации текста, нам нужно сначала его прочитать и потом выполнить классификацию.  В отличии от задачи генерации текста,  ошибку мы получаем только в конце. В итоге эта ошибка проходит через все итерации(перемножаем производные по всем скрытым состояниям) в обратную сторону. И если одна из производных окажется близкой к 0, то при большом числе итераций, градиент будет стремиться к 0. И это плохо.\n",
        "\n",
        "в RNN матрица W каждый раз одна и та же. И каждый раз ее градиент будет зависеть от того кусочка контекста, который приходил на вход в этой итерации. И градиент по первой итерации будет меньше чем гралиент по последней итерации. Т.е. последняя итреациия будет оказывать больше влияние на наш контекст - происходит забывание информации.\n",
        "\n",
        "Взрывание градиента - это когда мы делаем слишком большой градиентный шаг  и оказываемся в той области, где ошибка еще больше(когда лос-функция не гладкая или есть выбросы в данных).\n",
        "Способы борьбы с этим: образека градиента(gradient clipping) -  когда мы не даем градиенту быть больше чем какое-то число. "
      ]
    },
    {
      "cell_type": "markdown",
      "metadata": {
        "id": "eH_ARYfxWoGk",
        "colab_type": "text"
      },
      "source": [
        "##RNN и CNN\n"
      ]
    },
    {
      "cell_type": "markdown",
      "metadata": {
        "id": "ZyYJFeg_WwxM",
        "colab_type": "text"
      },
      "source": [
        "биграммы - пары слов. Текст - этоодномерный сигнал, к которому можно применить свертку.\n",
        "Слова в виде векторов(отображение слов в векторное пространство): \n",
        "\n",
        "one-hot(каждому слову - единица в совем разряде) не подходит - большая размерность и много нулевых значений. Кроме того каждое слово отнесено в отдельное измерение и слова становятся независимыми.\n",
        "\n",
        "TF-IDF(term frequency - inverse document frequency ). В языке больше малозначимых слов(предлогов,  междометий и т.д.). Если мы решаем задачу классификации, то слова, которые есть во всех текстах не помогут нам отличить тексты друг от друга. Поэтому мы смотрим как частото встречается слов в конкретном документе и во всех текстах.  Подходит для простых задач.\n",
        "\n",
        "Embeding- операции в пространстве смыслов. Как понять что слово что-то значит? Как понять, что слова похожи между собой или нет? Какую метрику и пространство для этого использовать?\n",
        "Похожие слова- это слова, которые встречаются в одном и том же контексте. Слова определяет свой контекст и слово определяется своим контекстом.По слову предсказываем  его контекст(Игра в ассоциации).\n",
        "На входе One-hot вектор(размерность словаря 100000), потом полносвязанный? слой,  потом soft-max для получения вероятности. После обучения мы получаем пространство - набор весов в скрытом слое. Используя эти веса можно очень быстро получить предсказание. потому что умножается one-hot вектор,  в котором только 1 единица.\n",
        "\n",
        "\n",
        "Как сократить размер словаря:\n",
        "1. Устойчивые словосочетания испольовать как отдельные токены. Например: Российская Федерация\n",
        "2. **subsampling** Так как наша задача предсказать для слова его контекст, то предсказывать контекст, например по предлогам - пустая трата времени.  Поэтому мы оцениваем частоту встречаемости нашего слова во всех тех текстах с которыми мы работали, и на основании этой частоты выкидываем слово с той или иной вероятностью. Вероятность обучить на слове,  в зависимости от его частоты. Если слово встречается часто, то мы редко на нем обучаемся.  Если слово встречается редко, то мы обучаемся на нем часто. Т.е.  чем чаще встречается слово, тем чаще мы его выкидываем.\n",
        "3. **Negativ sampling** тоже самое, но для случая когда у нас очень много классов(столько же сколько и слов). Умножение ошибки на ноль случайным образом. Чаще для тех слов,  которые встречаются чаще"
      ]
    },
    {
      "cell_type": "code",
      "metadata": {
        "id": "0ra_7c3rGzl5",
        "colab_type": "code",
        "colab": {}
      },
      "source": [
        ""
      ],
      "execution_count": 0,
      "outputs": []
    }
  ]
}